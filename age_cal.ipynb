{
 "cells": [
  {
   "cell_type": "code",
   "execution_count": 2,
   "metadata": {},
   "outputs": [
    {
     "name": "stdout",
     "output_type": "stream",
     "text": [
      "Enter your name: amma\n",
      "Enter your age: 43\n",
      "Your name is : amma\n",
      "Your age is : 43\n",
      "The year you will reach 100 is:  2078\n"
     ]
    }
   ],
   "source": [
    "name= input('Enter your name: ')\n",
    "age= int(input('Enter your age: '))\n",
    "print('Your name is :',name)\n",
    "print('Your age is :',age)\n",
    "X=100-age\n",
    "current_year= 2021\n",
    "if age<100:\n",
    "    C=current_year+X\n",
    "    print('The year you will reach 100 is: ',C)\n",
    "else:\n",
    "    print('You are above 100 years of age.Please try below 100!!!')"
   ]
  },
  {
   "cell_type": "code",
   "execution_count": null,
   "metadata": {},
   "outputs": [],
   "source": []
  }
 ],
 "metadata": {
  "kernelspec": {
   "display_name": "Python 3",
   "language": "python",
   "name": "python3"
  },
  "language_info": {
   "codemirror_mode": {
    "name": "ipython",
    "version": 3
   },
   "file_extension": ".py",
   "mimetype": "text/x-python",
   "name": "python",
   "nbconvert_exporter": "python",
   "pygments_lexer": "ipython3",
   "version": "3.7.6"
  }
 },
 "nbformat": 4,
 "nbformat_minor": 4
}
