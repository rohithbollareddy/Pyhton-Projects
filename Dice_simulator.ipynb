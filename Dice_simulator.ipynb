{
 "cells": [
  {
   "cell_type": "code",
   "execution_count": 1,
   "metadata": {},
   "outputs": [],
   "source": [
    "import random"
   ]
  },
  {
   "cell_type": "code",
   "execution_count": null,
   "metadata": {},
   "outputs": [
    {
     "name": "stdout",
     "output_type": "stream",
     "text": [
      "Rolling\n",
      "The values are : \n",
      "2 6\n",
      "Roll the Dice Again?0\n",
      "Rolling\n",
      "The values are : \n",
      "5 4\n",
      "Roll the Dice Again?0\n",
      "Rolling\n",
      "The values are : \n",
      "6 1\n",
      "Roll the Dice Again?0\n",
      "Rolling\n",
      "The values are : \n",
      "6 6\n",
      "Roll the Dice Again?0\n",
      "Rolling\n",
      "The values are : \n",
      "4 3\n",
      "Roll the Dice Again?0\n",
      "Rolling\n",
      "The values are : \n",
      "3 2\n",
      "Roll the Dice Again?0\n",
      "Rolling\n",
      "The values are : \n",
      "5 3\n",
      "Roll the Dice Again?.0\n",
      "Rolling\n",
      "The values are : \n",
      "1 1\n",
      "Roll the Dice Again?0\n",
      "Rolling\n",
      "The values are : \n",
      "3 1\n",
      "Roll the Dice Again?0\n",
      "Rolling\n",
      "The values are : \n",
      "2 1\n"
     ]
    }
   ],
   "source": [
    "minval=1\n",
    "maxval=6\n",
    "roll1='yes'\n",
    "roll2='y'\n",
    "while roll1=='yes' or roll2=='y':\n",
    "    print('Rolling')\n",
    "    print('The values are : ')\n",
    "    x1=random.randint(minval,maxval)\n",
    "    x2=random.randint(minval,maxval)\n",
    "    print(x1,x2)\n",
    "    roll=input('Roll the Dice Again?')"
   ]
  },
  {
   "cell_type": "code",
   "execution_count": null,
   "metadata": {},
   "outputs": [],
   "source": []
  },
  {
   "cell_type": "code",
   "execution_count": null,
   "metadata": {},
   "outputs": [],
   "source": []
  }
 ],
 "metadata": {
  "kernelspec": {
   "display_name": "Python 3",
   "language": "python",
   "name": "python3"
  },
  "language_info": {
   "codemirror_mode": {
    "name": "ipython",
    "version": 3
   },
   "file_extension": ".py",
   "mimetype": "text/x-python",
   "name": "python",
   "nbconvert_exporter": "python",
   "pygments_lexer": "ipython3",
   "version": "3.8.3"
  }
 },
 "nbformat": 4,
 "nbformat_minor": 4
}
